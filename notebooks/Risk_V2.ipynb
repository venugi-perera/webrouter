{
  "cells": [
    {
      "cell_type": "code",
      "execution_count": 2,
      "id": "b2c6d086",
      "metadata": {
        "id": "b2c6d086"
      },
      "outputs": [],
      "source": [
        "import numpy as np\n",
        "import pandas as pd\n",
        "import os\n",
        "import seaborn as sns\n",
        "import matplotlib.pyplot as plt"
      ]
    },
    {
      "cell_type": "code",
      "execution_count": 3,
      "id": "55b0f803",
      "metadata": {
        "id": "55b0f803"
      },
      "outputs": [],
      "source": [
        "data_path = '../data_src'\n",
        "df = pd.read_csv(os.path.join(data_path, 'balanced_generated_datav2.csv'))"
      ]
    },
    {
      "cell_type": "markdown",
      "id": "2bfe9ede",
      "metadata": {
        "id": "2bfe9ede"
      },
      "source": [
        "# Data Analysis"
      ]
    },
    {
      "cell_type": "code",
      "execution_count": 4,
      "id": "7c0f4cf8",
      "metadata": {
        "colab": {
          "base_uri": "https://localhost:8080/",
          "height": 112
        },
        "id": "7c0f4cf8",
        "outputId": "be02edac-d18f-4e42-8733-95af6cdbc681"
      },
      "outputs": [
        {
          "data": {
            "text/html": [
              "<div>\n",
              "<style scoped>\n",
              "    .dataframe tbody tr th:only-of-type {\n",
              "        vertical-align: middle;\n",
              "    }\n",
              "\n",
              "    .dataframe tbody tr th {\n",
              "        vertical-align: top;\n",
              "    }\n",
              "\n",
              "    .dataframe thead th {\n",
              "        text-align: right;\n",
              "    }\n",
              "</style>\n",
              "<table border=\"1\" class=\"dataframe\">\n",
              "  <thead>\n",
              "    <tr style=\"text-align: right;\">\n",
              "      <th></th>\n",
              "      <th>RPC_RATE</th>\n",
              "      <th>KEPT_RATE</th>\n",
              "      <th>NRPC_RATE</th>\n",
              "      <th>MONTH_END_DPD</th>\n",
              "      <th>Total_Score</th>\n",
              "      <th>Risk_Level</th>\n",
              "    </tr>\n",
              "  </thead>\n",
              "  <tbody>\n",
              "    <tr>\n",
              "      <th>0</th>\n",
              "      <td>77.617247</td>\n",
              "      <td>60.922130</td>\n",
              "      <td>91.290787</td>\n",
              "      <td>200</td>\n",
              "      <td>20</td>\n",
              "      <td>3</td>\n",
              "    </tr>\n",
              "    <tr>\n",
              "      <th>1</th>\n",
              "      <td>11.351964</td>\n",
              "      <td>14.241049</td>\n",
              "      <td>83.307706</td>\n",
              "      <td>200</td>\n",
              "      <td>8</td>\n",
              "      <td>5</td>\n",
              "    </tr>\n",
              "  </tbody>\n",
              "</table>\n",
              "</div>"
            ],
            "text/plain": [
              "    RPC_RATE  KEPT_RATE  NRPC_RATE  MONTH_END_DPD  Total_Score  Risk_Level\n",
              "0  77.617247  60.922130  91.290787            200           20           3\n",
              "1  11.351964  14.241049  83.307706            200            8           5"
            ]
          },
          "execution_count": 4,
          "metadata": {},
          "output_type": "execute_result"
        }
      ],
      "source": [
        "df.head(2)"
      ]
    },
    {
      "cell_type": "code",
      "execution_count": 5,
      "id": "b2673dd8",
      "metadata": {
        "colab": {
          "base_uri": "https://localhost:8080/"
        },
        "id": "b2673dd8",
        "outputId": "43708798-f4a4-4ace-bdeb-15cd3d90ef7b"
      },
      "outputs": [
        {
          "data": {
            "text/plain": [
              "(5000, 6)"
            ]
          },
          "execution_count": 5,
          "metadata": {},
          "output_type": "execute_result"
        }
      ],
      "source": [
        "df.shape"
      ]
    },
    {
      "cell_type": "code",
      "execution_count": 6,
      "id": "59bef782",
      "metadata": {
        "colab": {
          "base_uri": "https://localhost:8080/"
        },
        "id": "59bef782",
        "outputId": "f55b9bae-df9b-460b-c2c1-32501b4a891b"
      },
      "outputs": [
        {
          "data": {
            "text/plain": [
              "RPC_RATE         0\n",
              "KEPT_RATE        0\n",
              "NRPC_RATE        0\n",
              "MONTH_END_DPD    0\n",
              "Total_Score      0\n",
              "Risk_Level       0\n",
              "dtype: int64"
            ]
          },
          "execution_count": 6,
          "metadata": {},
          "output_type": "execute_result"
        }
      ],
      "source": [
        "df.isnull().sum()"
      ]
    },
    {
      "cell_type": "code",
      "execution_count": 7,
      "id": "733560b3",
      "metadata": {
        "colab": {
          "base_uri": "https://localhost:8080/"
        },
        "id": "733560b3",
        "outputId": "0bb6e0c6-885e-47ed-94fc-d1c32c42cb0e"
      },
      "outputs": [
        {
          "name": "stdout",
          "output_type": "stream",
          "text": [
            "<class 'pandas.core.frame.DataFrame'>\n",
            "RangeIndex: 5000 entries, 0 to 4999\n",
            "Data columns (total 6 columns):\n",
            " #   Column         Non-Null Count  Dtype  \n",
            "---  ------         --------------  -----  \n",
            " 0   RPC_RATE       5000 non-null   float64\n",
            " 1   KEPT_RATE      5000 non-null   float64\n",
            " 2   NRPC_RATE      5000 non-null   float64\n",
            " 3   MONTH_END_DPD  5000 non-null   int64  \n",
            " 4   Total_Score    5000 non-null   int64  \n",
            " 5   Risk_Level     5000 non-null   int64  \n",
            "dtypes: float64(3), int64(3)\n",
            "memory usage: 234.5 KB\n"
          ]
        }
      ],
      "source": [
        "df.info()"
      ]
    },
    {
      "cell_type": "code",
      "execution_count": 8,
      "id": "59537119",
      "metadata": {
        "id": "59537119"
      },
      "outputs": [],
      "source": [
        "df = df.drop(columns=[\n",
        "  'Total_Score',\n",
        "  'NRPC_RATE'])"
      ]
    },
    {
      "cell_type": "code",
      "execution_count": 9,
      "id": "a0a4e3cd",
      "metadata": {
        "colab": {
          "base_uri": "https://localhost:8080/",
          "height": 206
        },
        "id": "a0a4e3cd",
        "outputId": "61b4c2eb-cf02-451f-94b2-eda8eb06c1bc",
        "scrolled": true
      },
      "outputs": [
        {
          "data": {
            "text/html": [
              "<div>\n",
              "<style scoped>\n",
              "    .dataframe tbody tr th:only-of-type {\n",
              "        vertical-align: middle;\n",
              "    }\n",
              "\n",
              "    .dataframe tbody tr th {\n",
              "        vertical-align: top;\n",
              "    }\n",
              "\n",
              "    .dataframe thead th {\n",
              "        text-align: right;\n",
              "    }\n",
              "</style>\n",
              "<table border=\"1\" class=\"dataframe\">\n",
              "  <thead>\n",
              "    <tr style=\"text-align: right;\">\n",
              "      <th></th>\n",
              "      <th>RPC_RATE</th>\n",
              "      <th>KEPT_RATE</th>\n",
              "      <th>MONTH_END_DPD</th>\n",
              "      <th>Risk_Level</th>\n",
              "    </tr>\n",
              "  </thead>\n",
              "  <tbody>\n",
              "    <tr>\n",
              "      <th>0</th>\n",
              "      <td>77.617247</td>\n",
              "      <td>60.922130</td>\n",
              "      <td>200</td>\n",
              "      <td>3</td>\n",
              "    </tr>\n",
              "    <tr>\n",
              "      <th>1</th>\n",
              "      <td>11.351964</td>\n",
              "      <td>14.241049</td>\n",
              "      <td>200</td>\n",
              "      <td>5</td>\n",
              "    </tr>\n",
              "    <tr>\n",
              "      <th>2</th>\n",
              "      <td>57.929456</td>\n",
              "      <td>83.644308</td>\n",
              "      <td>100</td>\n",
              "      <td>3</td>\n",
              "    </tr>\n",
              "    <tr>\n",
              "      <th>3</th>\n",
              "      <td>49.830623</td>\n",
              "      <td>3.972980</td>\n",
              "      <td>30</td>\n",
              "      <td>2</td>\n",
              "    </tr>\n",
              "    <tr>\n",
              "      <th>4</th>\n",
              "      <td>67.841576</td>\n",
              "      <td>69.097482</td>\n",
              "      <td>30</td>\n",
              "      <td>1</td>\n",
              "    </tr>\n",
              "  </tbody>\n",
              "</table>\n",
              "</div>"
            ],
            "text/plain": [
              "    RPC_RATE  KEPT_RATE  MONTH_END_DPD  Risk_Level\n",
              "0  77.617247  60.922130            200           3\n",
              "1  11.351964  14.241049            200           5\n",
              "2  57.929456  83.644308            100           3\n",
              "3  49.830623   3.972980             30           2\n",
              "4  67.841576  69.097482             30           1"
            ]
          },
          "execution_count": 9,
          "metadata": {},
          "output_type": "execute_result"
        }
      ],
      "source": [
        "df.head()"
      ]
    },
    {
      "cell_type": "markdown",
      "id": "8385bf63",
      "metadata": {
        "id": "8385bf63"
      },
      "source": [
        "### One-Hot Encoding"
      ]
    },
    {
      "cell_type": "code",
      "execution_count": 10,
      "id": "b67f4a4e",
      "metadata": {
        "id": "b67f4a4e"
      },
      "outputs": [],
      "source": [
        "df = pd.get_dummies(df)"
      ]
    },
    {
      "cell_type": "code",
      "execution_count": 11,
      "id": "66f09269",
      "metadata": {
        "colab": {
          "base_uri": "https://localhost:8080/",
          "height": 112
        },
        "id": "66f09269",
        "outputId": "3f8ac58d-0359-477d-f74b-0b35331a488a"
      },
      "outputs": [
        {
          "data": {
            "text/html": [
              "<div>\n",
              "<style scoped>\n",
              "    .dataframe tbody tr th:only-of-type {\n",
              "        vertical-align: middle;\n",
              "    }\n",
              "\n",
              "    .dataframe tbody tr th {\n",
              "        vertical-align: top;\n",
              "    }\n",
              "\n",
              "    .dataframe thead th {\n",
              "        text-align: right;\n",
              "    }\n",
              "</style>\n",
              "<table border=\"1\" class=\"dataframe\">\n",
              "  <thead>\n",
              "    <tr style=\"text-align: right;\">\n",
              "      <th></th>\n",
              "      <th>RPC_RATE</th>\n",
              "      <th>KEPT_RATE</th>\n",
              "      <th>MONTH_END_DPD</th>\n",
              "      <th>Risk_Level</th>\n",
              "    </tr>\n",
              "  </thead>\n",
              "  <tbody>\n",
              "    <tr>\n",
              "      <th>0</th>\n",
              "      <td>77.617247</td>\n",
              "      <td>60.922130</td>\n",
              "      <td>200</td>\n",
              "      <td>3</td>\n",
              "    </tr>\n",
              "    <tr>\n",
              "      <th>1</th>\n",
              "      <td>11.351964</td>\n",
              "      <td>14.241049</td>\n",
              "      <td>200</td>\n",
              "      <td>5</td>\n",
              "    </tr>\n",
              "  </tbody>\n",
              "</table>\n",
              "</div>"
            ],
            "text/plain": [
              "    RPC_RATE  KEPT_RATE  MONTH_END_DPD  Risk_Level\n",
              "0  77.617247  60.922130            200           3\n",
              "1  11.351964  14.241049            200           5"
            ]
          },
          "execution_count": 11,
          "metadata": {},
          "output_type": "execute_result"
        }
      ],
      "source": [
        "df.head(2)"
      ]
    },
    {
      "cell_type": "code",
      "execution_count": 12,
      "id": "013bbf52",
      "metadata": {
        "colab": {
          "base_uri": "https://localhost:8080/"
        },
        "id": "013bbf52",
        "outputId": "e20847da-f4de-4c48-ec7b-78a35ca15c1f"
      },
      "outputs": [
        {
          "data": {
            "text/plain": [
              "(5000, 4)"
            ]
          },
          "execution_count": 12,
          "metadata": {},
          "output_type": "execute_result"
        }
      ],
      "source": [
        "df.shape"
      ]
    },
    {
      "cell_type": "code",
      "execution_count": 13,
      "id": "DGSGhTQ7eZA8",
      "metadata": {
        "colab": {
          "base_uri": "https://localhost:8080/"
        },
        "id": "DGSGhTQ7eZA8",
        "outputId": "93d1b0b7-23d3-48a5-98b3-d65ac6c8ea27"
      },
      "outputs": [
        {
          "name": "stdout",
          "output_type": "stream",
          "text": [
            "5000\n",
            "Filtered CSV file generated successfully!\n"
          ]
        }
      ],
      "source": [
        "df = df[~df.apply(lambda row: row.astype(str).str.contains('overfitted|underfitted').any(), axis=1)]\n",
        "print(len(df))\n",
        "\n",
        "print(\"Filtered CSV file generated successfully!\")"
      ]
    },
    {
      "cell_type": "markdown",
      "id": "5becd450",
      "metadata": {
        "id": "5becd450"
      },
      "source": [
        "# Model Building and Selection"
      ]
    },
    {
      "cell_type": "code",
      "execution_count": 14,
      "id": "d3cdaad8",
      "metadata": {
        "id": "d3cdaad8"
      },
      "outputs": [],
      "source": [
        "X = df.drop('Risk_Level', axis=1)\n",
        "y = df['Risk_Level']"
      ]
    },
    {
      "cell_type": "markdown",
      "id": "b5d2d5c8",
      "metadata": {
        "id": "b5d2d5c8"
      },
      "source": [
        "### Divide dataset into training and testing set"
      ]
    },
    {
      "cell_type": "code",
      "execution_count": 16,
      "id": "c27f0bc4",
      "metadata": {
        "id": "c27f0bc4"
      },
      "outputs": [],
      "source": [
        "from sklearn.model_selection import train_test_split\n",
        "X_train, X_test, y_train, y_test = train_test_split(X, y, test_size = 0.25)"
      ]
    },
    {
      "cell_type": "code",
      "execution_count": 17,
      "id": "110097a0",
      "metadata": {
        "colab": {
          "base_uri": "https://localhost:8080/"
        },
        "id": "110097a0",
        "outputId": "d2f862fe-06b2-4cb8-f157-73375575ea3d",
        "scrolled": true
      },
      "outputs": [
        {
          "data": {
            "text/plain": [
              "((3750, 3), (1250, 3))"
            ]
          },
          "execution_count": 17,
          "metadata": {},
          "output_type": "execute_result"
        }
      ],
      "source": [
        "X_train.shape, X_test.shape"
      ]
    },
    {
      "cell_type": "markdown",
      "id": "66cc17ab",
      "metadata": {
        "id": "66cc17ab"
      },
      "source": [
        "### Model Training"
      ]
    },
    {
      "cell_type": "code",
      "execution_count": 18,
      "id": "d5870149",
      "metadata": {
        "id": "d5870149"
      },
      "outputs": [],
      "source": [
        "def model_acc(model):\n",
        "    model.fit(X_train, y_train)\n",
        "    acc = model.score(X_test, y_test)\n",
        "    print(str(model)+ ' --> ' +str(acc))"
      ]
    },
    {
      "cell_type": "code",
      "execution_count": 19,
      "id": "16d3b53e",
      "metadata": {
        "colab": {
          "base_uri": "https://localhost:8080/"
        },
        "id": "16d3b53e",
        "outputId": "1fc75afd-d993-4aa2-887a-5d9a81d7ec47"
      },
      "outputs": [
        {
          "name": "stdout",
          "output_type": "stream",
          "text": [
            "LinearRegression() --> 0.8226456398570225\n",
            "Lasso() --> 0.8226637775014476\n",
            "DecisionTreeRegressor() --> 0.7944508321563533\n",
            "RandomForestRegressor() --> 0.8761615338103039\n"
          ]
        }
      ],
      "source": [
        "from sklearn.linear_model import LinearRegression\n",
        "lr = LinearRegression()\n",
        "model_acc(lr)\n",
        "\n",
        "from sklearn.linear_model import Lasso\n",
        "lasso = Lasso()\n",
        "model_acc(lasso)\n",
        "\n",
        "from sklearn.tree import DecisionTreeRegressor\n",
        "dt = DecisionTreeRegressor()\n",
        "model_acc(dt)\n",
        "\n",
        "from sklearn.ensemble import RandomForestRegressor\n",
        "rf = RandomForestRegressor()\n",
        "model_acc(rf)"
      ]
    },
    {
      "cell_type": "code",
      "execution_count": 21,
      "id": "Ynd1QCrGOHFb",
      "metadata": {
        "colab": {
          "base_uri": "https://localhost:8080/",
          "height": 913
        },
        "id": "Ynd1QCrGOHFb",
        "outputId": "04e25829-1659-4626-fe86-c42f13fa0aab"
      },
      "outputs": [
        {
          "data": {
            "image/png": "[encoded data removed]",
            "text/plain": [
              "<Figure size 1200x900 with 2 Axes>"
            ]
          },
          "metadata": {},
          "output_type": "display_data"
        }
      ],
      "source": [
        "plt.figure(figsize = (12,9))\n",
        "data1 = df[['MONTH_END_DPD', 'RPC_RATE', 'KEPT_RATE']]\n",
        "\n",
        "s = sns.heatmap(data1.corr(),\n",
        "                annot = True,\n",
        "                cmap = 'RdBu',\n",
        "                vmin = -1,\n",
        "                vmax = 1)\n",
        "s.set_yticklabels(s.get_yticklabels(), rotation = 0, fontsize = 12)\n",
        "s.set_xticklabels(s.get_xticklabels(), rotation = 90, fontsize = 12)\n",
        "plt.title(\"Correlatioon\")\n",
        "plt.show()"
      ]
    },
    {
      "cell_type": "markdown",
      "id": "8121555d",
      "metadata": {
        "id": "8121555d"
      },
      "source": [
        "### Hyperparameter tunning"
      ]
    },
    {
      "cell_type": "code",
      "execution_count": 22,
      "id": "73ec02ce",
      "metadata": {
        "colab": {
          "base_uri": "https://localhost:8080/"
        },
        "id": "73ec02ce",
        "outputId": "879e7e2b-9bdd-4333-e7b7-7510c4832fa4"
      },
      "outputs": [
        {
          "data": {
            "text/plain": [
              "0.8770623299090693"
            ]
          },
          "execution_count": 22,
          "metadata": {},
          "output_type": "execute_result"
        }
      ],
      "source": [
        "from sklearn.model_selection import GridSearchCV\n",
        "\n",
        "parameters = {'n_estimators':[10, 50, 100],\n",
        "              'criterion':['squared_error','absolute_error','poisson']}\n",
        "\n",
        "grid_obj = GridSearchCV(estimator=rf, param_grid=parameters)\n",
        "\n",
        "grid_fit = grid_obj.fit(X_train, y_train)\n",
        "\n",
        "best_model = grid_fit.best_estimator_\n",
        "\n",
        "best_model.score(X_test, y_test)"
      ]
    },
    {
      "cell_type": "code",
      "execution_count": 23,
      "id": "6be3fb13",
      "metadata": {
        "colab": {
          "base_uri": "https://localhost:8080/"
        },
        "id": "6be3fb13",
        "outputId": "28fb3349-87ce-4f43-b843-adc317c7a73b",
        "scrolled": true
      },
      "outputs": [
        {
          "data": {
            "text/plain": [
              "Index(['RPC_RATE', 'KEPT_RATE', 'MONTH_END_DPD'], dtype='object')"
            ]
          },
          "execution_count": 23,
          "metadata": {},
          "output_type": "execute_result"
        }
      ],
      "source": [
        "X_test.columns"
      ]
    },
    {
      "cell_type": "markdown",
      "id": "7ed81d27",
      "metadata": {
        "id": "7ed81d27"
      },
      "source": [
        "### Save model"
      ]
    },
    {
      "cell_type": "code",
      "execution_count": 24,
      "id": "TrElVZv_Sypm",
      "metadata": {
        "colab": {
          "base_uri": "https://localhost:8080/"
        },
        "id": "TrElVZv_Sypm",
        "outputId": "25e070fa-aae7-4c1f-df99-2ea0e9748b71"
      },
      "outputs": [],
      "source": [
        "# import joblib\n",
        "\n",
        "# # Save the model\n",
        "# joblib.dump(best_model, 'predictor.joblib')\n",
        "\n",
        "# # Load the model\n",
        "# best_model = joblib.load('predictor.joblib')\n",
        "# lst = [100,0,90]\n",
        "# pred_value = best_model.predict([lst])\n",
        "# pred_value\n"
      ]
    },
    {
      "cell_type": "code",
      "execution_count": 25,
      "id": "89bd6b26",
      "metadata": {
        "id": "89bd6b26"
      },
      "outputs": [],
      "source": [
        "import pickle\n",
        "\n",
        "with open('../model/model.pkl', 'wb') as f:\n",
        "    pickle.dump(best_model, f, protocol=4)"
      ]
    }
  ],
  "metadata": {
    "colab": {
      "provenance": []
    },
    "kernelspec": {
      "display_name": "Python 3 (ipykernel)",
      "language": "python",
      "name": "python3"
    },
    "language_info": {
      "codemirror_mode": {
        "name": "ipython",
        "version": 3
      },
      "file_extension": ".py",
      "mimetype": "text/x-python",
      "name": "python",
      "nbconvert_exporter": "python",
      "pygments_lexer": "ipython3",
      "version": "3.12.1"
    }
  },
  "nbformat": 4,
  "nbformat_minor": 5
}
